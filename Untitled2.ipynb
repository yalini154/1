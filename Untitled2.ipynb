{
  "nbformat": 4,
  "nbformat_minor": 0,
  "metadata": {
    "colab": {
      "provenance": [],
      "authorship_tag": "ABX9TyMQ+WfX3HzbdbyRmsHSF9rw",
      "include_colab_link": true
    },
    "kernelspec": {
      "name": "python3",
      "display_name": "Python 3"
    },
    "language_info": {
      "name": "python"
    }
  },
  "cells": [
    {
      "cell_type": "markdown",
      "metadata": {
        "id": "view-in-github",
        "colab_type": "text"
      },
      "source": [
        "<a href=\"https://colab.research.google.com/github/yalini154/1/blob/main/Untitled2.ipynb\" target=\"_parent\"><img src=\"https://colab.research.google.com/assets/colab-badge.svg\" alt=\"Open In Colab\"/></a>"
      ]
    },
    {
      "cell_type": "code",
      "execution_count": 4,
      "metadata": {
        "colab": {
          "base_uri": "https://localhost:8080/"
        },
        "id": "36k2Qes1DnLU",
        "outputId": "0cafdc7d-fb97-4638-fd4e-8f5d65180b93"
      },
      "outputs": [
        {
          "output_type": "stream",
          "name": "stdout",
          "text": [
            "Enter your number: 86\n",
            "86 is not a palindrome\n"
          ]
        }
      ],
      "source": [
        "number = int(input(\"Enter your number: \"))\n",
        "original_number = number\n",
        "reversed_number = 0\n",
        "while number > 0:\n",
        "  digit = number % 10\n",
        "  reversed_number = reversed_number * 10 + digit\n",
        "  number //= 10\n",
        "if original_number == reversed_number:\n",
        "  print(f\"{original_number} is a palindrome\")\n",
        "else:\n",
        "  print(f\"{original_number} is not a palindrome\")"
      ]
    },
    {
      "cell_type": "code",
      "source": [
        "numberLargest = int(input(\"Enter Largest number: \"))\n",
        "numberSmallest = int(input(\"Enter Smallest number: \"))\n",
        "while(numberSmallest):\n",
        "  numberStore = numberSmallest\n",
        "  numberSmallest = numberLargest % numberSmallest\n",
        "  numberLargest = numberStore\n",
        "print(\"HCF is: \",numberLargest)"
      ],
      "metadata": {
        "colab": {
          "base_uri": "https://localhost:8080/"
        },
        "id": "QVtfmYgaFm1F",
        "outputId": "2f2bc4e8-325e-4c87-8999-95d3350bac31"
      },
      "execution_count": 9,
      "outputs": [
        {
          "output_type": "stream",
          "name": "stdout",
          "text": [
            "Enter Largest number: 60\n",
            "Enter Smallest number: 48\n",
            "HCF is:  12\n"
          ]
        }
      ]
    }
  ]
}