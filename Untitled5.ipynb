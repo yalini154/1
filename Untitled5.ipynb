{
  "nbformat": 4,
  "nbformat_minor": 0,
  "metadata": {
    "colab": {
      "provenance": [],
      "authorship_tag": "ABX9TyOAebCjrxrfjKZGrc96B98D",
      "include_colab_link": true
    },
    "kernelspec": {
      "name": "python3",
      "display_name": "Python 3"
    },
    "language_info": {
      "name": "python"
    }
  },
  "cells": [
    {
      "cell_type": "markdown",
      "metadata": {
        "id": "view-in-github",
        "colab_type": "text"
      },
      "source": [
        "<a href=\"https://colab.research.google.com/github/yalini154/1/blob/main/Untitled5.ipynb\" target=\"_parent\"><img src=\"https://colab.research.google.com/assets/colab-badge.svg\" alt=\"Open In Colab\"/></a>"
      ]
    },
    {
      "cell_type": "code",
      "execution_count": 6,
      "metadata": {
        "colab": {
          "base_uri": "https://localhost:8080/"
        },
        "id": "SYaQVpqy-xFQ",
        "outputId": "6c252a28-b443-41c2-f5d6-5a3c19bd824e"
      },
      "outputs": [
        {
          "output_type": "stream",
          "name": "stdout",
          "text": [
            "Enter a number: 4\n",
            "\n",
            "The number is a power of 2\n"
          ]
        }
      ],
      "source": [
        "def power2(number):\n",
        "  if number <= 0:\n",
        "    return False\n",
        "  return (number & (number - 1)) == 0\n",
        "\n",
        "\n",
        "n = int(input(\"Enter a number: \"))\n",
        "if power2(n):\n",
        "  print(\"\\nThe number is a power of 2\")\n",
        "else:\n",
        "  print(\"\\nThe number is not a power of 2\")"
      ]
    },
    {
      "cell_type": "code",
      "source": [
        "def computePower(x, y):\n",
        "  result = 1\n",
        "  while y>0:\n",
        "    if(y%2==0):\n",
        "      x=x*x\n",
        "      y>>=1\n",
        "    else:\n",
        "      result = result * x\n",
        "      y = y - 1\n",
        "\n",
        "  return result\n",
        "x = int(input(\"Enter x for x^y : \"))\n",
        "y = int(input(\"Enter y for x^y : \"))\n",
        "print(\"Total :\",(computePower(x,y)))"
      ],
      "metadata": {
        "colab": {
          "base_uri": "https://localhost:8080/"
        },
        "id": "FqP6IpL6A-di",
        "outputId": "b2202487-4e07-451b-f537-8731a4c5074c"
      },
      "execution_count": 8,
      "outputs": [
        {
          "output_type": "stream",
          "name": "stdout",
          "text": [
            "Enter x for x^y : 2\n",
            "Enter y for x^y : 4\n",
            "Total : 16\n"
          ]
        }
      ]
    }
  ]
}