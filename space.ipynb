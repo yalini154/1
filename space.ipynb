{
  "nbformat": 4,
  "nbformat_minor": 0,
  "metadata": {
    "colab": {
      "provenance": [],
      "authorship_tag": "ABX9TyMJzA9wIMrRvNTPYN5gJ5QG",
      "include_colab_link": true
    },
    "kernelspec": {
      "name": "python3",
      "display_name": "Python 3"
    },
    "language_info": {
      "name": "python"
    }
  },
  "cells": [
    {
      "cell_type": "markdown",
      "metadata": {
        "id": "view-in-github",
        "colab_type": "text"
      },
      "source": [
        "<a href=\"https://colab.research.google.com/github/yalini154/1/blob/main/space.ipynb\" target=\"_parent\"><img src=\"https://colab.research.google.com/assets/colab-badge.svg\" alt=\"Open In Colab\"/></a>"
      ]
    },
    {
      "cell_type": "code",
      "execution_count": null,
      "metadata": {
        "colab": {
          "base_uri": "https://localhost:8080/"
        },
        "id": "7SIU9HQ9-qPT",
        "outputId": "e49b5fe5-0832-4382-856e-f1c4767d3508"
      },
      "outputs": [
        {
          "output_type": "stream",
          "name": "stdout",
          "text": [
            "Codingal\n"
          ]
        }
      ],
      "source": [
        "def prints(n):\n",
        "  if(n<=0):\n",
        "    return\n",
        "  print(\"Codingal\")\n",
        "prints(5)"
      ]
    },
    {
      "cell_type": "code",
      "source": [
        "def sum(n):\n",
        "  return n*(n+1)/2\n",
        "print(sum(6))"
      ],
      "metadata": {
        "colab": {
          "base_uri": "https://localhost:8080/"
        },
        "id": "GvHBDhMA_pY6",
        "outputId": "836184e0-513e-40c0-95d8-a6a92138324e"
      },
      "execution_count": null,
      "outputs": [
        {
          "output_type": "stream",
          "name": "stdout",
          "text": [
            "21.0\n"
          ]
        }
      ]
    },
    {
      "cell_type": "code",
      "source": [
        "def arraysum(a):\n",
        "  sum=0\n",
        "  for i in a:\n",
        "    sum = sum + i\n",
        "  return(sum)\n",
        "a = [12, 3, 4, 15]\n",
        "arraysum(a)"
      ],
      "metadata": {
        "colab": {
          "base_uri": "https://localhost:8080/"
        },
        "id": "wDgNWMRrAB7U",
        "outputId": "719443ed-1fd3-469d-9ca6-697e2ad2ae36"
      },
      "execution_count": null,
      "outputs": [
        {
          "output_type": "execute_result",
          "data": {
            "text/plain": [
              "34"
            ]
          },
          "metadata": {},
          "execution_count": 11
        }
      ]
    }
  ]
}