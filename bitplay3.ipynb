{
  "nbformat": 4,
  "nbformat_minor": 0,
  "metadata": {
    "colab": {
      "provenance": [],
      "authorship_tag": "ABX9TyMN9M2WiG8zKBv7NkF0Rxbl",
      "include_colab_link": true
    },
    "kernelspec": {
      "name": "python3",
      "display_name": "Python 3"
    },
    "language_info": {
      "name": "python"
    }
  },
  "cells": [
    {
      "cell_type": "markdown",
      "metadata": {
        "id": "view-in-github",
        "colab_type": "text"
      },
      "source": [
        "<a href=\"https://colab.research.google.com/github/yalini154/1/blob/main/bitplay3.ipynb\" target=\"_parent\"><img src=\"https://colab.research.google.com/assets/colab-badge.svg\" alt=\"Open In Colab\"/></a>"
      ]
    },
    {
      "cell_type": "code",
      "execution_count": 1,
      "metadata": {
        "colab": {
          "base_uri": "https://localhost:8080/"
        },
        "id": "8u_Dyjx0K_WT",
        "outputId": "4075cd44-cbad-4f60-dc02-854050b8aca1"
      },
      "outputs": [
        {
          "output_type": "stream",
          "name": "stdout",
          "text": [
            "Swapped: a = 12 b = 56\n"
          ]
        }
      ],
      "source": [
        "a = 56\n",
        "b = 12\n",
        "a = a + b\n",
        "b = a - b\n",
        "a = a - b\n",
        "print(\"Swapped: a =\", a, \"b =\", b)"
      ]
    },
    {
      "cell_type": "code",
      "source": [
        "def swap1(a,b):\n",
        "  a = a ^ b\n",
        "  b = a ^ b\n",
        "  a = a ^ b\n",
        "  print (\"After Swapping: a = \", a, \" b =\", b)\n",
        "swap1(10,20)"
      ],
      "metadata": {
        "colab": {
          "base_uri": "https://localhost:8080/"
        },
        "id": "FF507j2pLj2z",
        "outputId": "4e15a0e4-866c-4382-c279-c46f8071c5be"
      },
      "execution_count": 2,
      "outputs": [
        {
          "output_type": "stream",
          "name": "stdout",
          "text": [
            "After Swapping: a =  20  b = 10\n"
          ]
        }
      ]
    },
    {
      "cell_type": "code",
      "source": [
        "def divide(ourdividend, ourDivisor):\n",
        "  sign = (-1 if((ourdividend < 0) ^ (ourDivisor < 0)) else 1);\n",
        "  ourdividend = abs(ourdividend);\n",
        "  ourDivisor = abs(ourDivisor);\n",
        "\n",
        "  quotientNumber = 0\n",
        "  tempNumber = 0\n",
        "  for i in range(31, -1, -1):\n",
        "    if (tempNumber + (ourDivisor << i) <= ourdividend):\n",
        "      tempNumber += ourDivisor << i\n",
        "      quotientNumber |= 1 << i\n",
        "    if sign == -1:\n",
        "      quotientNumber = -quotientNumber\n",
        "    return quotientNumber\n",
        "a = int(input(\"Enter a for a/b: \"))\n",
        "b = int(input(\"Enter b for a/b: \"))\n",
        "print(\"Result of\", a, \"/\", b, \"is\", divide(a, b))"
      ],
      "metadata": {
        "colab": {
          "base_uri": "https://localhost:8080/"
        },
        "id": "xHWULGuIMrYo",
        "outputId": "dea851a0-2a02-49e1-8389-09dbb71876be"
      },
      "execution_count": 11,
      "outputs": [
        {
          "output_type": "stream",
          "name": "stdout",
          "text": [
            "Enter a for a/b: 5\n",
            "Enter b for a/b: 25\n",
            "Result of 5 / 25 is 0\n"
          ]
        }
      ]
    }
  ]
}