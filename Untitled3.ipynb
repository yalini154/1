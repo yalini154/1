{
  "nbformat": 4,
  "nbformat_minor": 0,
  "metadata": {
    "colab": {
      "provenance": [],
      "authorship_tag": "ABX9TyMnVruolP7SSOXDI8NZVkMp",
      "include_colab_link": true
    },
    "kernelspec": {
      "name": "python3",
      "display_name": "Python 3"
    },
    "language_info": {
      "name": "python"
    }
  },
  "cells": [
    {
      "cell_type": "markdown",
      "metadata": {
        "id": "view-in-github",
        "colab_type": "text"
      },
      "source": [
        "<a href=\"https://colab.research.google.com/github/yalini154/1/blob/main/Untitled3.ipynb\" target=\"_parent\"><img src=\"https://colab.research.google.com/assets/colab-badge.svg\" alt=\"Open In Colab\"/></a>"
      ]
    },
    {
      "cell_type": "code",
      "execution_count": null,
      "metadata": {
        "colab": {
          "base_uri": "https://localhost:8080/"
        },
        "id": "V1Z06hJ8EhGE",
        "outputId": "6f922318-2196-4478-ebba-ecf818051b11"
      },
      "outputs": [
        {
          "output_type": "stream",
          "name": "stdout",
          "text": [
            "num1 & num2 are: 0\n",
            "num1 | num2 are: 14\n",
            "num1 ^ num2 are: 14\n",
            "num1 << num2 are: 160\n",
            "num1 >> num2 are: 0\n",
            "~num1 are: -11\n"
          ]
        }
      ],
      "source": [
        "num1 = 10\n",
        "num2 = 4\n",
        "print(\"num1 & num2 are:\", num1 & num2)\n",
        "print(\"num1 | num2 are:\", num1 | num2)\n",
        "print(\"num1 ^ num2 are:\", num1 ^ num2)\n",
        "print(\"num1 << num2 are:\", num1 << num2)\n",
        "print(\"num1 >> num2 are:\", num1 >> num2)\n",
        "print(\"~num1 are:\", ~num1)"
      ]
    },
    {
      "cell_type": "code",
      "source": [
        "def isEven0dd(n):\n",
        "  if(n ^ 1 == n + 1):\n",
        "    return True;\n",
        "  else:\n",
        "    return False;\n",
        "number = int(input(\"Enter your number: \"))\n",
        "if isEven0dd(number):\n",
        "  print(number, \"is even\")\n",
        "else:\n",
        "  print(number, \"is odd\")"
      ],
      "metadata": {
        "colab": {
          "base_uri": "https://localhost:8080/"
        },
        "id": "gcaxdb0zGYIP",
        "outputId": "eb576af2-71e3-4ecc-f8f2-cdd7ac4a56dd"
      },
      "execution_count": null,
      "outputs": [
        {
          "output_type": "stream",
          "name": "stdout",
          "text": [
            "Enter your number: 13\n",
            "13 is odd\n"
          ]
        }
      ]
    },
    {
      "cell_type": "code",
      "source": [
        "def numberOfBits(n):\n",
        "  count = 0\n",
        "  while (n):\n",
        "    count += 1\n",
        "    n >>= 1\n",
        "  return count\n",
        "n = int(input(\"Enter a number: \"))\n",
        "print(\"Number of bits: \", numberOfBits(n))"
      ],
      "metadata": {
        "colab": {
          "base_uri": "https://localhost:8080/"
        },
        "id": "sBzYHIK-IyKm",
        "outputId": "1a7f24d7-29bd-4e75-b049-b5bf984b3863"
      },
      "execution_count": null,
      "outputs": [
        {
          "output_type": "stream",
          "name": "stdout",
          "text": [
            "Enter a number: 3\n",
            "Number of bits:  2\n"
          ]
        }
      ]
    }
  ]
}