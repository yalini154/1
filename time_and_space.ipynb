{
  "nbformat": 4,
  "nbformat_minor": 0,
  "metadata": {
    "colab": {
      "provenance": [],
      "authorship_tag": "ABX9TyOr5Aie0eR29yC/FICeCYlr",
      "include_colab_link": true
    },
    "kernelspec": {
      "name": "python3",
      "display_name": "Python 3"
    },
    "language_info": {
      "name": "python"
    }
  },
  "cells": [
    {
      "cell_type": "markdown",
      "metadata": {
        "id": "view-in-github",
        "colab_type": "text"
      },
      "source": [
        "<a href=\"https://colab.research.google.com/github/yalini154/1/blob/main/time_and_space.ipynb\" target=\"_parent\"><img src=\"https://colab.research.google.com/assets/colab-badge.svg\" alt=\"Open In Colab\"/></a>"
      ]
    },
    {
      "cell_type": "code",
      "execution_count": null,
      "metadata": {
        "colab": {
          "base_uri": "https://localhost:8080/"
        },
        "id": "MA5bvqAk7f6B",
        "outputId": "f43a2fe1-650d-4c51-a81a-e239ce70474f"
      },
      "outputs": [
        {
          "output_type": "stream",
          "name": "stdout",
          "text": [
            "10.0\n"
          ]
        }
      ],
      "source": [
        "def fun1(n):\n",
        "  return n*(n+1)/2\n",
        "print(fun1(4))"
      ]
    },
    {
      "cell_type": "code",
      "source": [
        "def fun2(n):\n",
        "  sum=0\n",
        "  for i in range(1,n+1):\n",
        "    sum+=i\n",
        "  return sum\n",
        "print(fun2(4))"
      ],
      "metadata": {
        "colab": {
          "base_uri": "https://localhost:8080/"
        },
        "id": "a38wRpNc8NzU",
        "outputId": "1365b2b5-5cdf-4f3c-f4b8-b9bf814e6c72"
      },
      "execution_count": null,
      "outputs": [
        {
          "output_type": "stream",
          "name": "stdout",
          "text": [
            "10\n"
          ]
        }
      ]
    },
    {
      "cell_type": "code",
      "source": [
        "def fun3(n):\n",
        "  sum=0\n",
        "  for i in range(1, n+1):\n",
        "    for j in range(1,i+1):\n",
        "      sum+=i\n",
        "  return sum\n",
        "print(fun3(4))"
      ],
      "metadata": {
        "colab": {
          "base_uri": "https://localhost:8080/"
        },
        "id": "74UhTW8l9N4w",
        "outputId": "5e11c28d-51b8-4fc6-9e79-5407d2ecfa9c"
      },
      "execution_count": null,
      "outputs": [
        {
          "output_type": "stream",
          "name": "stdout",
          "text": [
            "30\n"
          ]
        }
      ]
    },
    {
      "cell_type": "code",
      "source": [
        "def fun4(n):\n",
        "  sum=1\n",
        "  for i in range(1, n+1):\n",
        "    sum*=i\n",
        "  return sum\n",
        "print(fun4(4))"
      ],
      "metadata": {
        "colab": {
          "base_uri": "https://localhost:8080/"
        },
        "id": "sZjnn3N4-EWX",
        "outputId": "f7cf6448-0f19-47a0-bf62-1fa9cc1060c9"
      },
      "execution_count": null,
      "outputs": [
        {
          "output_type": "stream",
          "name": "stdout",
          "text": [
            "24\n"
          ]
        }
      ]
    }
  ]
}