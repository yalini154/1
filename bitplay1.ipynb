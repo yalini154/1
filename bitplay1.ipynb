{
  "nbformat": 4,
  "nbformat_minor": 0,
  "metadata": {
    "colab": {
      "provenance": [],
      "authorship_tag": "ABX9TyNanaGvS10oLVr9ktWFThXe",
      "include_colab_link": true
    },
    "kernelspec": {
      "name": "python3",
      "display_name": "Python 3"
    },
    "language_info": {
      "name": "python"
    }
  },
  "cells": [
    {
      "cell_type": "markdown",
      "metadata": {
        "id": "view-in-github",
        "colab_type": "text"
      },
      "source": [
        "<a href=\"https://colab.research.google.com/github/yalini154/1/blob/main/bitplay1.ipynb\" target=\"_parent\"><img src=\"https://colab.research.google.com/assets/colab-badge.svg\" alt=\"Open In Colab\"/></a>"
      ]
    },
    {
      "cell_type": "code",
      "execution_count": null,
      "metadata": {
        "colab": {
          "base_uri": "https://localhost:8080/"
        },
        "id": "0fbRi_gO4qZr",
        "outputId": "94a5e5ca-3c22-43a2-e03f-83a9bb8e3f98"
      },
      "outputs": [
        {
          "output_type": "stream",
          "name": "stdout",
          "text": [
            "Enter your number: 20\n",
            "Number of ones = 2 \n",
            "Number of zeroes = 3\n"
          ]
        }
      ],
      "source": [
        "def numberOfBit(n):\n",
        "  ones = 0\n",
        "  zeroes = 0\n",
        "  while (n):\n",
        "    if (n & 1 == 1):\n",
        "      ones += 1\n",
        "    else:\n",
        "      zeroes += 1\n",
        "    n >>= 1\n",
        "  print(\"Number of ones =\", ones, \"\\nNumber of zeroes =\", zeroes)\n",
        "number = int(input(\"Enter your number: \"))\n",
        "numberOfBit(number)"
      ]
    },
    {
      "cell_type": "code",
      "source": [
        "def setOrNot(number, n):\n",
        "  mask = 1\n",
        "  if (n & mask) == 1 or (n & mask) == 0:\n",
        "    if number & (1 << (n - 1)):\n",
        "      print(\"SET\")\n",
        "    else:\n",
        "      print(\"NOT SET\")\n",
        "number = int(input(\"Enter the number: \"))\n",
        "n = int(input(\"Enterthe bit postition: \"))\n",
        "setOrNot(number, n)"
      ],
      "metadata": {
        "colab": {
          "base_uri": "https://localhost:8080/"
        },
        "id": "S0EXKbZA8jdM",
        "outputId": "911c4fb8-2e42-4744-f4ab-c80e878f039b"
      },
      "execution_count": null,
      "outputs": [
        {
          "output_type": "stream",
          "name": "stdout",
          "text": [
            "Enter the number: 25\n",
            "Enterthe bit postition: 4\n",
            "SET\n"
          ]
        }
      ]
    }
  ]
}