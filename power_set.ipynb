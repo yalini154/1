{
  "nbformat": 4,
  "nbformat_minor": 0,
  "metadata": {
    "colab": {
      "provenance": [],
      "authorship_tag": "ABX9TyO3r45P4stzFgMJCIhkKi5I",
      "include_colab_link": true
    },
    "kernelspec": {
      "name": "python3",
      "display_name": "Python 3"
    },
    "language_info": {
      "name": "python"
    }
  },
  "cells": [
    {
      "cell_type": "markdown",
      "metadata": {
        "id": "view-in-github",
        "colab_type": "text"
      },
      "source": [
        "<a href=\"https://colab.research.google.com/github/yalini154/1/blob/main/power_set.ipynb\" target=\"_parent\"><img src=\"https://colab.research.google.com/assets/colab-badge.svg\" alt=\"Open In Colab\"/></a>"
      ]
    },
    {
      "cell_type": "code",
      "execution_count": 10,
      "metadata": {
        "colab": {
          "base_uri": "https://localhost:8080/"
        },
        "id": "a0f8s8w7AE_x",
        "outputId": "da993726-cc69-4660-9494-6f154c80d787"
      },
      "outputs": [
        {
          "output_type": "stream",
          "name": "stdout",
          "text": [
            "Enter array size: 1\n",
            "Enter element: 1\n",
            "\n",
            "1\n"
          ]
        }
      ],
      "source": [
        "import math;\n",
        "def printPowerSet(set, SetSize):\n",
        "  PowerSetSize = (int) (math.pow(2, SetSize));\n",
        "  outer = 0\n",
        "  inner = 0\n",
        "  for outer in range(0, PowerSetSize):\n",
        "    for inner in range(0, SetSize):\n",
        "      if((outer & (1 << inner) > 0)):\n",
        "        print(set[inner], end = \"\")\n",
        "    print(\"\")\n",
        "size = int(input(\"Enter array size: \"))\n",
        "set = []\n",
        "for i in range(0,size):\n",
        "  n = int(input(\"Enter element: \"))\n",
        "  set.append(n)\n",
        "printPowerSet(set, len(set))"
      ]
    },
    {
      "cell_type": "code",
      "source": [
        "def filps(num1,num2):\n",
        "  filp = 0\n",
        "  while (num1 > 0 or num2 > 0):\n",
        "    t1 = num1 & 1\n",
        "    t2 = num2 & 1\n",
        "    if t1 != t2:\n",
        "      filp += 1\n",
        "      num1 >>= 1\n",
        "      num2 >>= 1\n",
        "    return filp\n",
        "num1 = int(input(\"Enter first number: \"))\n",
        "num2 = int(input(\"Enter second number: \"))\n",
        "print(\"Number of flips needed:\", filps(num1, num2))"
      ],
      "metadata": {
        "id": "eaL5hGuQFA0W"
      },
      "execution_count": null,
      "outputs": []
    }
  ]
}