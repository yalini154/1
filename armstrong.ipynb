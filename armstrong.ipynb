{
  "nbformat": 4,
  "nbformat_minor": 0,
  "metadata": {
    "colab": {
      "provenance": [],
      "authorship_tag": "ABX9TyNccDe6OMe9TQj5y74KDBNE",
      "include_colab_link": true
    },
    "kernelspec": {
      "name": "python3",
      "display_name": "Python 3"
    },
    "language_info": {
      "name": "python"
    }
  },
  "cells": [
    {
      "cell_type": "markdown",
      "metadata": {
        "id": "view-in-github",
        "colab_type": "text"
      },
      "source": [
        "<a href=\"https://colab.research.google.com/github/yalini154/1/blob/main/armstrong.ipynb\" target=\"_parent\"><img src=\"https://colab.research.google.com/assets/colab-badge.svg\" alt=\"Open In Colab\"/></a>"
      ]
    },
    {
      "cell_type": "code",
      "execution_count": 2,
      "metadata": {
        "colab": {
          "base_uri": "https://localhost:8080/"
        },
        "id": "ZuTtFFhezsYW",
        "outputId": "b8eb2626-1f67-4b59-8727-32c2ce806dab"
      },
      "outputs": [
        {
          "output_type": "stream",
          "name": "stdout",
          "text": [
            "input number:153\n",
            "153\n",
            "153 is an armstrong number\n"
          ]
        }
      ],
      "source": [
        "number = int(input(\"input number:\"))\n",
        "result = 0\n",
        "temp = number\n",
        "while temp!=0:\n",
        "  digit = temp % 10\n",
        "  result = result+digit**3\n",
        "  temp = temp//10\n",
        "print(result)\n",
        "if number == result:\n",
        "  print(number, \"is an armstrong number\")\n",
        "else:\n",
        "  print(number, \"is not an armstrong number\")"
      ]
    },
    {
      "cell_type": "code",
      "source": [
        "def print_factors(number):\n",
        "  print(\"The factors of\",number,\"are:\")\n",
        "  for i in range(1, number + 1):\n",
        "    if number % i -- 0:\n",
        "      print(i)\n",
        "number = int(input(\"Enter your number to find its factors:\"))\n",
        "print_factors(number)"
      ],
      "metadata": {
        "colab": {
          "base_uri": "https://localhost:8080/"
        },
        "id": "tNG6NkHV2fgB",
        "outputId": "07010ac1-81d9-47a9-b118-fa7fc174e633"
      },
      "execution_count": 5,
      "outputs": [
        {
          "output_type": "stream",
          "name": "stdout",
          "text": [
            "Enter your number to find its factors:6\n",
            "The factors of 6 are:\n",
            "4\n",
            "5\n"
          ]
        }
      ]
    }
  ]
}