{
  "nbformat": 4,
  "nbformat_minor": 0,
  "metadata": {
    "colab": {
      "provenance": [],
      "authorship_tag": "ABX9TyNgems5eBB3lI+j18bvNgKL",
      "include_colab_link": true
    },
    "kernelspec": {
      "name": "python3",
      "display_name": "Python 3"
    },
    "language_info": {
      "name": "python"
    }
  },
  "cells": [
    {
      "cell_type": "markdown",
      "metadata": {
        "id": "view-in-github",
        "colab_type": "text"
      },
      "source": [
        "<a href=\"https://colab.research.google.com/github/yalini154/1/blob/main/prime_number.ipynb\" target=\"_parent\"><img src=\"https://colab.research.google.com/assets/colab-badge.svg\" alt=\"Open In Colab\"/></a>"
      ]
    },
    {
      "cell_type": "code",
      "execution_count": 4,
      "metadata": {
        "colab": {
          "base_uri": "https://localhost:8080/"
        },
        "id": "c8CeQXYK5H1w",
        "outputId": "ea604c48-d3e9-4071-bac7-e25d0e51e0c9"
      },
      "outputs": [
        {
          "output_type": "stream",
          "name": "stdout",
          "text": [
            "Enter your number \n",
            "18\n",
            "18  is not prime\n"
          ]
        }
      ],
      "source": [
        "from math import sqrt\n",
        "number=int(input(\"Enter your number \\n\"))\n",
        "if number>1:\n",
        "  for i in range(2, int(sqrt(number))+1):\n",
        "    if(number%i==0):\n",
        "      print(number, \" is not prime\")\n",
        "      break\n",
        "  else:\n",
        "    print(number, \" is a prime\")\n",
        "else:\n",
        "  print(number, \" is not a prime\")"
      ]
    },
    {
      "cell_type": "code",
      "source": [
        "def SieveOfEratosthenes(num):\n",
        "  prime = [True for i in range(num+1)]\n",
        "\n",
        "  p = 2\n",
        "  while (p * p <= num):\n",
        "\n",
        "    if (prime[p]==True):\n",
        "\n",
        "      for i in range(p * p, num+1, p):\n",
        "        prime[i] = False\n",
        "    p += 1\n",
        "\n",
        "  for p in range(2, num+1):\n",
        "    if prime[p]:\n",
        "      print(p)\n",
        "\n",
        "\n",
        "num = int(input())\n",
        "print(\"than or equal to\", num)\n",
        "SieveOfEratosthenes(num)"
      ],
      "metadata": {
        "colab": {
          "base_uri": "https://localhost:8080/"
        },
        "id": "lMdlZrdW8C_M",
        "outputId": "f6988404-6c67-48e2-e2e8-e8d739365691"
      },
      "execution_count": 6,
      "outputs": [
        {
          "output_type": "stream",
          "name": "stdout",
          "text": [
            "87\n",
            "than or equal to 87\n",
            "2\n",
            "3\n",
            "5\n",
            "7\n",
            "11\n",
            "13\n",
            "17\n",
            "19\n",
            "23\n",
            "29\n",
            "31\n",
            "37\n",
            "41\n",
            "43\n",
            "47\n",
            "53\n",
            "59\n",
            "61\n",
            "67\n",
            "71\n",
            "73\n",
            "79\n",
            "83\n"
          ]
        }
      ]
    }
  ]
}