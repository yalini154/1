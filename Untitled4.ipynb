{
  "nbformat": 4,
  "nbformat_minor": 0,
  "metadata": {
    "colab": {
      "provenance": [],
      "authorship_tag": "ABX9TyN7OMHS0+mq50Y9/9El3q5K",
      "include_colab_link": true
    },
    "kernelspec": {
      "name": "python3",
      "display_name": "Python 3"
    },
    "language_info": {
      "name": "python"
    }
  },
  "cells": [
    {
      "cell_type": "markdown",
      "metadata": {
        "id": "view-in-github",
        "colab_type": "text"
      },
      "source": [
        "<a href=\"https://colab.research.google.com/github/yalini154/1/blob/main/Untitled4.ipynb\" target=\"_parent\"><img src=\"https://colab.research.google.com/assets/colab-badge.svg\" alt=\"Open In Colab\"/></a>"
      ]
    },
    {
      "cell_type": "code",
      "execution_count": null,
      "metadata": {
        "colab": {
          "base_uri": "https://localhost:8080/"
        },
        "id": "SCvGHx5QGuH5",
        "outputId": "4ae5a34a-95de-4561-d431-fcfe5ed9a1a5"
      },
      "outputs": [
        {
          "output_type": "stream",
          "name": "stdout",
          "text": [
            "Enter first number to compare25\n",
            "Enter second number to compare46\n",
            "numbers are not equal\n"
          ]
        }
      ],
      "source": [
        "def checkIfSame(number1,number2):\n",
        "  if((number1 ^ number2)!= 0):\n",
        "    print(\"numbers are not equal\")\n",
        "\n",
        "  else:\n",
        "    print(\"both numbers are equal\")\n",
        "\n",
        "number1 = int(input(\"Enter first number to compare\"))\n",
        "number2 = int(input(\"Enter second number to compare\"))\n",
        "checkIfSame(number1,number2)"
      ]
    },
    {
      "cell_type": "code",
      "source": [
        "def OddOccuring(arr):\n",
        "  res = 0\n",
        "  for element in arr:\n",
        "    res = res ^ element\n",
        "  return res\n",
        "arr = []\n",
        "n = int(input(\"Enter array size: \"))\n",
        "while(n):\n",
        "  num = int(input(\"Enter number: \"))\n",
        "  arr.append(num)\n",
        "  n-=1\n",
        "\n",
        "print(\"OddOccuring number is\",OddOccuring(arr))"
      ],
      "metadata": {
        "id": "B602kUUEJ4d6",
        "colab": {
          "base_uri": "https://localhost:8080/"
        },
        "outputId": "c1b1add7-9eb6-4cca-db6e-70f1d87d0a81"
      },
      "execution_count": 11,
      "outputs": [
        {
          "output_type": "stream",
          "name": "stdout",
          "text": [
            "Enter array size: 5\n",
            "Enter number: 56\n",
            "Enter number: 67\n",
            "Enter number: 24\n",
            "Enter number: 86\n",
            "Enter number: 56\n",
            "OddOccuring number is 13\n"
          ]
        }
      ]
    },
    {
      "cell_type": "code",
      "source": [
        "def TwoOdd(arr, size):\n",
        "  xorof2 = arr[0]\n",
        "  x = 0\n",
        "  y = 0\n",
        "  SetBit = 0\n",
        "  for i in range(1,size):\n",
        "    xorof2 = xorof2 ^ arr[i]\n",
        "  SetBit = xorof2 & ~(xorof2-1)\n",
        "  for i in range(size):\n",
        "    if(arr[i]& SetBit):\n",
        "      x = x ^ arr[i]\n",
        "    else:\n",
        "      y = y ^ arr[i]\n",
        "  print(\"TwoOdd element are\",x,\"&\",y)\n",
        "\n",
        "arr = []\n",
        "arr_size = int(input(\"Enter the size of the array\"))\n",
        "for i in range(0,arr_size):\n",
        "  z = int(input(\"Enter element\"))\n",
        "  arr.append(z)\n",
        "print(\"TwoOdd\")"
      ],
      "metadata": {
        "colab": {
          "base_uri": "https://localhost:8080/"
        },
        "id": "oo3hiMEAMs0M",
        "outputId": "596ec04c-ca42-478a-a205-d7c8fa35af09"
      },
      "execution_count": 12,
      "outputs": [
        {
          "output_type": "stream",
          "name": "stdout",
          "text": [
            "Enter the size of the array5\n",
            "Enter element56\n",
            "Enter element56\n",
            "Enter element56\n",
            "Enter element56\n",
            "Enter element578\n",
            "TwoOdd\n"
          ]
        }
      ]
    }
  ]
}